{
 "cells": [
  {
   "cell_type": "markdown",
   "id": "34b00e88-5e23-48fa-af15-0a8b21c75765",
   "metadata": {},
   "source": [
    "# Creating MongoDB database"
   ]
  },
  {
   "cell_type": "markdown",
   "id": "546c49c8-e744-4a87-b95d-9052e3764718",
   "metadata": {},
   "source": [
    "I used MongoDB Atlas so that I can have my DataBase in the cloud and can manage it from other devices. In this notebook you're goint to see my process of creating this DB."
   ]
  },
  {
   "cell_type": "code",
   "execution_count": 1,
   "id": "8476e034-417b-4ab6-8368-3af4104a6bfd",
   "metadata": {
    "tags": []
   },
   "outputs": [],
   "source": [
    "from pymongo import MongoClient\n",
    "\n",
    "from passwords import STR_CONN # a file with my connection string to the mongodb atlas db"
   ]
  },
  {
   "cell_type": "code",
   "execution_count": 2,
   "id": "41aab0c5-b377-4f3c-b449-7edca444acec",
   "metadata": {
    "tags": []
   },
   "outputs": [
    {
     "data": {
      "text/plain": [
       "['admin', 'local']"
      ]
     },
     "execution_count": 2,
     "metadata": {},
     "output_type": "execute_result"
    }
   ],
   "source": [
    "cursor = MongoClient(STR_CONN)\n",
    "\n",
    "cursor.list_database_names()"
   ]
  },
  {
   "cell_type": "code",
   "execution_count": 3,
   "id": "387e64cc-566c-4099-928b-9b65dca3718c",
   "metadata": {
    "tags": []
   },
   "outputs": [],
   "source": [
    "db = cursor.live_chats"
   ]
  },
  {
   "cell_type": "code",
   "execution_count": 4,
   "id": "13a9c029-6da4-44cf-8ea5-6e8bb88fc5d1",
   "metadata": {
    "tags": []
   },
   "outputs": [],
   "source": [
    "# create collections\n",
    "creator = db.creator\n",
    "video = db.video\n",
    "user = db.user\n",
    "message = db.message\n",
    "\n",
    "# create sample dict\n",
    "sample = {'id_': 0, 'sample': 'sample'}\n",
    "\n",
    "# add sample to each collection so that we can visualize them\n",
    "collections = [creator, video, user, message]\n",
    "for c in collections:\n",
    "    c.insert_one(sample)       "
   ]
  },
  {
   "cell_type": "code",
   "execution_count": 5,
   "id": "9015b35c-4699-4fba-bb91-bc4ca8aed815",
   "metadata": {
    "tags": []
   },
   "outputs": [
    {
     "data": {
      "text/plain": [
       "['live_chats', 'admin', 'local']"
      ]
     },
     "execution_count": 5,
     "metadata": {},
     "output_type": "execute_result"
    }
   ],
   "source": [
    "cursor.list_database_names()"
   ]
  },
  {
   "cell_type": "code",
   "execution_count": 6,
   "id": "996c1330-6294-443d-9b11-34ece6bbacd4",
   "metadata": {
    "tags": []
   },
   "outputs": [
    {
     "data": {
      "text/plain": [
       "['user', 'video', 'message', 'creator']"
      ]
     },
     "execution_count": 6,
     "metadata": {},
     "output_type": "execute_result"
    }
   ],
   "source": [
    "db.list_collection_names()"
   ]
  },
  {
   "cell_type": "markdown",
   "id": "a3b6ef7a-a62f-4494-a642-1045055cc846",
   "metadata": {},
   "source": [
    "The database was created, sample data will be removed as soon as data is introduced to the collection. This is, as Troy and Gabriella said on the first song of High School Musical: the start of something new."
   ]
  }
 ],
 "metadata": {
  "kernelspec": {
   "display_name": "ironproject",
   "language": "python",
   "name": "ironproject"
  },
  "language_info": {
   "codemirror_mode": {
    "name": "ipython",
    "version": 3
   },
   "file_extension": ".py",
   "mimetype": "text/x-python",
   "name": "python",
   "nbconvert_exporter": "python",
   "pygments_lexer": "ipython3",
   "version": "3.11.6"
  }
 },
 "nbformat": 4,
 "nbformat_minor": 5
}
