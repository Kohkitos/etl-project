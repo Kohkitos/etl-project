{
 "cells": [
  {
   "cell_type": "markdown",
   "id": "b74a4043-4239-435b-9b0a-9649b2713964",
   "metadata": {},
   "source": [
    "# Data Scraping"
   ]
  },
  {
   "cell_type": "markdown",
   "id": "22de4ca5-4950-4ce9-bd14-3fc970c23ab1",
   "metadata": {},
   "source": [
    "In this notebook I will explain the process I made to create the pipeline that can be found in `src/pipeline.py`."
   ]
  },
  {
   "cell_type": "code",
   "execution_count": 1,
   "id": "51733e9c-130d-4ba7-ad56-cce8d2424509",
   "metadata": {
    "tags": []
   },
   "outputs": [],
   "source": [
    "# Libraries\n",
    "\n",
    "from chat_downloader import ChatDownloader # library for live chat data scraping\n",
    "import requests as req\n",
    "from selenium.webdriver.chrome.options import Options\n",
    "from selenium import webdriver\n",
    "from selenium.webdriver.common.by import By\n",
    "\n",
    "import time\n",
    "import json\n",
    "import datetime\n",
    "\n",
    "from pymongo import MongoClient\n",
    "from passwords import STR_CONN # a file with my connection string to the mongodb atlas db\n",
    "\n",
    "from pysentimiento import create_analyzer # sentiment analysis nlp"
   ]
  },
  {
   "cell_type": "markdown",
   "id": "53d18e7b-ff40-4cdd-ac09-f85a1abd74af",
   "metadata": {},
   "source": [
    "First, load analyzers and initialize driver's options"
   ]
  },
  {
   "cell_type": "code",
   "execution_count": 9,
   "id": "84e34710-f694-4ade-88f3-8c396e1acbf1",
   "metadata": {
    "tags": []
   },
   "outputs": [],
   "source": [
    "analyzer = create_analyzer(task=\"sentiment\", lang=\"es\")\n",
    "\n",
    "hate_speech_analyzer = create_analyzer(task=\"context_hate_speech\", lang=\"es\")"
   ]
  },
  {
   "cell_type": "code",
   "execution_count": 2,
   "id": "6a16af04-b16e-49a7-8e46-4c900fb32879",
   "metadata": {
    "tags": []
   },
   "outputs": [],
   "source": [
    "opciones=Options()\n",
    "\n",
    "opciones.add_experimental_option('excludeSwitches', ['enable-automation'])\n",
    "opciones.add_experimental_option('useAutomationExtension', False)\n",
    "opciones.headless=False\n",
    "opciones.add_argument('--start-maximized')\n",
    "opciones.add_argument('--incognito')"
   ]
  },
  {
   "cell_type": "markdown",
   "id": "cfa5e07c-a946-412c-94b3-49ca51b01638",
   "metadata": {},
   "source": [
    "The next part of the notebook will be on a `while True` loop, but for the sake of explanation this will only cover one iteration."
   ]
  },
  {
   "cell_type": "code",
   "execution_count": 5,
   "id": "2490a953-8cfa-4fcd-8f59-f3c378e246c0",
   "metadata": {
    "tags": []
   },
   "outputs": [
    {
     "data": {
      "text/plain": [
       "['thegrefg', 'willyrex', 'lolitofdez', 'mixwell', 'agustin51']"
      ]
     },
     "execution_count": 5,
     "metadata": {},
     "output_type": "execute_result"
    }
   ],
   "source": [
    "driver = webdriver.Chrome(opciones)\n",
    "\n",
    "time.sleep(2)\n",
    "\n",
    "url = 'https://twitchtracker.com/channels/live/spanish' # web with top live streams in spanish at the moment\n",
    "\n",
    "driver.get(url)\n",
    "\n",
    "table = driver.find_element(By.CSS_SELECTOR, 'table')\n",
    "top_5 = table.find_elements(By.CSS_SELECTOR, 'tr')[:5]\n",
    "\n",
    "users = []\n",
    "\n",
    "for e in top_5:\n",
    "    users.append(e.find_elements(By.CSS_SELECTOR, 'a')[1].text.lower())\n",
    "\n",
    "driver.quit()\n",
    "users"
   ]
  },
  {
   "cell_type": "markdown",
   "id": "1b5a47c3-8cf6-44e5-9f73-9347d4925a36",
   "metadata": {},
   "source": [
    "Now that we have the top 5 twtich streamers that are live now, we will take their data. Ideally this would work with all of them at the same time, but we'll take only the first one for this explanation."
   ]
  },
  {
   "cell_type": "code",
   "execution_count": 6,
   "id": "08af93ad-6667-4f3d-ac34-bcf760cc636a",
   "metadata": {
    "tags": []
   },
   "outputs": [],
   "source": [
    "user = users[0]\n",
    "\n",
    "url = f'https://www.twitch.tv/{user}'\n",
    "chat = ChatDownloader().get_chat(url,\n",
    "                                retry_timeout = -1, # -1 makes the downloader to retreive a message as soon as is published\n",
    "                                timeout = 150)      # 150 secs of scrapping\n",
    "temp = []\n",
    "for message in chat:                        \n",
    "    temp.append(message)"
   ]
  },
  {
   "cell_type": "code",
   "execution_count": 7,
   "id": "03cb4693-2804-41c3-a2ed-6b5a8cd872a3",
   "metadata": {
    "tags": []
   },
   "outputs": [],
   "source": [
    "# load mongo cursor\n",
    "cursor = MongoClient(STR_CONN)\n",
    "\n",
    "db = cursor.live_chats"
   ]
  },
  {
   "cell_type": "code",
   "execution_count": 11,
   "id": "6009ca31-41bf-4ebb-b6bd-780ed42ac3e2",
   "metadata": {
    "tags": []
   },
   "outputs": [],
   "source": [
    "# video data\n",
    "vid_id = chat.__dict__['id']\n",
    "vid_url = url\n",
    "vid_title = chat.__dict__['title']\n",
    "\n",
    "video_son = {\n",
    "            '_id': vid_id,\n",
    "            'title': vid_title,\n",
    "            'recording': {\n",
    "                            'start': datetime.datetime.now(),\n",
    "                            'finish': ''\n",
    "                            },\n",
    "            'sample': True\n",
    "            }\n",
    "\n",
    "# try pass just in case the author id is already there\n",
    "try:\n",
    "    db.video.insert_one(video_son)\n",
    "except:\n",
    "    pass\n",
    "# message and author\n",
    "messages = []\n",
    "commentors = []\n",
    "\n",
    "for samp in temp:\n",
    "    # message\n",
    "    mess = samp['message']\n",
    "    mess_id = samp['message_id']\n",
    "    sent = analyzer.predict(mess).__dict__['output']\n",
    "    hate = hate_speech_analyzer.predict(mess).__dict__['output']\n",
    "    # common\n",
    "    ts = samp['timestamp']\n",
    "    # author\n",
    "    name = samp['author']['name']\n",
    "    com_id = samp['author']['id']\n",
    "\n",
    "    mess_son = {\n",
    "                '_id': mess_id,\n",
    "                'message': mess,\n",
    "                'date': datetime.datetime.now(),\n",
    "                'timestamp': ts,\n",
    "                'commentator_id': com_id,\n",
    "                'video_id': vid_id,\n",
    "                'sentiment_analysis': sent,\n",
    "                'hat_speech_analysis': hate,\n",
    "                'sample': True\n",
    "                }\n",
    "\n",
    "    auth_son = {\n",
    "                '_id': com_id,\n",
    "                'name': name,\n",
    "                'last_update': datetime.datetime.now(),\n",
    "                'sample': True\n",
    "                }\n",
    "    \n",
    "    messages.append(mess_son)\n",
    "    commentors.append(auth_son)"
   ]
  },
  {
   "cell_type": "markdown",
   "id": "378f1609-83c1-4197-b67c-de9c5121b867",
   "metadata": {},
   "source": [
    "We clear repeated users and insert into mongo."
   ]
  },
  {
   "cell_type": "code",
   "execution_count": 12,
   "id": "8162c836-7daf-4d63-97d7-e7f6637b35d2",
   "metadata": {
    "tags": []
   },
   "outputs": [
    {
     "data": {
      "text/plain": [
       "InsertManyResult(['960088216', '879409122', '461907942', '805116643', '19264788', '508687620', '751653653', '799119213', '779249169', '234620237', '524349985', '486312448', '827931197', '980927106', '910753363', '930795865', '897089591', '528487028', '249679139', '936851964', '615911677', '511822498', '944974851', '889741999', '469535618', '922164801', '502675279', '550093633', '825308369', '704199343', '671957599', '230978364', '235059228', '621010473', '214230291', '981607019', '891301133', '965724325', '478005240', '583310583', '222358961', '524328955', '599269764', '698168684', '520245487', '833321014', '731300701', '413293880', '464936415', '982075112', '562336258', '554991770', '468325883', '752566304', '266418541', '944799204', '234066712', '409747483', '218720600', '407746017', '554757200', '755697060', '591534520', '976732393', '580056840', '526150974', '421117308', '515408485', '981776695', '491243567', '573229538', '544409509', '982073726', '709060161', '715951231', '533835397', '787830474', '733307724', '776090210', '247726734', '39947138', '841215820', '833774193', '874867139', '982053754', '472204508', '466865605', '790759875', '968611977', '476238670', '940332803', '206537925', '575547041', '710896829', '471477226', '720617594', '408187458', '887486554', '535868418', '707525408', '84754917', '950205183', '233422356', '951031504', '645408246', '784187713', '250755621', '762531307', '137824988', '546440618', '66565693', '819302231', '189596372', '850839325', '855540472', '696692036', '268472565', '760669319', '557439436', '548330829', '539689029', '462444776', '779704518', '636019641', '465768062', '955285734', '485127522', '456537013', '906595446', '982037629', '821130898', '510517571', '856426751', '629989710', '709221236', '744246781', '609926793', '795806709', '756484732', '868410759', '481137214', '199429440', '982036414', '792941529', '979162966', '278782582', '462386949', '453692633', '787481037', '785732374', '606289344', '442305823', '154178130', '210027717', '688915445', '428813214', '749319472', '700439014', '138027713', '535073446', '816048983', '509461236', '519502116', '739643184', '847309106', '523911914', '704529080', '827313541', '612762692', '610790759', '975675028', '211217795', '486547939', '613418840', '882099676', '524746361', '775900254', '629795718', '223304826', '885582704', '763979433', '140931711', '817732661', '211998830', '810201471'], acknowledged=True)"
      ]
     },
     "execution_count": 12,
     "metadata": {},
     "output_type": "execute_result"
    }
   ],
   "source": [
    "curated_comms = []\n",
    "\n",
    "for commentor in commentors:\n",
    "    flag = 1\n",
    "    for comm in curated_comms:\n",
    "        if (comm) and (comm['_id'] == commentor['_id']):\n",
    "            flag = 0\n",
    "            continue\n",
    "    if flag:\n",
    "        curated_comms.append(commentor)\n",
    "\n",
    "db.message.insert_many(messages)\n",
    "db.user.insert_many(curated_comms)"
   ]
  }
 ],
 "metadata": {
  "kernelspec": {
   "display_name": "ironproject",
   "language": "python",
   "name": "ironproject"
  },
  "language_info": {
   "codemirror_mode": {
    "name": "ipython",
    "version": 3
   },
   "file_extension": ".py",
   "mimetype": "text/x-python",
   "name": "python",
   "nbconvert_exporter": "python",
   "pygments_lexer": "ipython3",
   "version": "3.11.6"
  }
 },
 "nbformat": 4,
 "nbformat_minor": 5
}
